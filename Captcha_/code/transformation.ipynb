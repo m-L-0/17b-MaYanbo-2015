{
 "cells": [
  {
   "cell_type": "code",
   "execution_count": 1,
   "metadata": {},
   "outputs": [],
   "source": [
    "from PIL import Image\n",
    "import os\n",
    "import tensorflow as tf\n",
    "import csv"
   ]
  },
  {
   "cell_type": "code",
   "execution_count": 6,
   "metadata": {},
   "outputs": [
    {
     "name": "stdout",
     "output_type": "stream",
     "text": [
      "num = 40000\n",
      "{1: 9844, 2: 5908, 3: 16183, 4: 8065}\n"
     ]
    }
   ],
   "source": [
    "size = 40000\n",
    "\n",
    "\n",
    "def _int64_feature(value):\n",
    "    return tf.train.Feature(int64_list=tf.train.Int64List(value=[value]))\n",
    "\n",
    "\n",
    "def _bytes_feature(value):\n",
    "    return tf.train.Feature(bytes_list=tf.train.BytesList(value=[value]))\n",
    "\n",
    "\n",
    "def convert_to():\n",
    "    cwd_images = \"../data/captcha/images/\"\n",
    "    cwd_name = \"data/captcha/images/\"\n",
    "    cwd_labels = \"../data/captcha/labels/labels.csv\"\n",
    "    \n",
    "\n",
    "    train_size = 0\n",
    "    validation_size = 0\n",
    "    test_size = 0\n",
    "    num = 0\n",
    "    labels = {}\n",
    "    sizes = {}\n",
    "    with open(cwd_labels) as csvfile:\n",
    "        reader = csv.reader(csvfile)\n",
    "        for i in reader:\n",
    "            if len(i[1]) not in sizes:\n",
    "                sizes[len(i[1])] = 1\n",
    "            else:\n",
    "                sizes[len(i[1])] = sizes[len(i[1])] + 1\n",
    "            labels[i[0]] = int(i[1])\n",
    "    for img_name in os.listdir(cwd_images):\n",
    "        num += 1\n",
    "        img_path = cwd_images + img_name\n",
    "        image = Image.open(img_path)\n",
    "        image = image.resize((50, 40))\n",
    "        image_raw = image.tobytes()\n",
    "        index = labels[cwd_name + img_name]\n",
    "        \n",
    "        example = tf.train.Example(features=tf.train.Features(feature={\n",
    "                    'label': _int64_feature(int(index)),\n",
    "                    'image_raw': _bytes_feature(image_raw)}))\n",
    "        if num % 10 <= 8 and num % 10 > 0:\n",
    "            train_size += 1\n",
    "            if train_size % 4000 == 1:\n",
    "                train_few = train_size // 4000\n",
    "                writer_train = tf.python_io.TFRecordWriter('train_'+str(train_few)+'.tfrecords')\n",
    "            writer_train.write(example.SerializeToString())\n",
    "        elif num % 10 == 9:\n",
    "            validation_size += 1\n",
    "            if validation_size % 4000 == 1:\n",
    "                validation_few = validation_size // 4000\n",
    "                writer_validation = tf.python_io.TFRecordWriter('validation_'+str(validation_few)+'.tfrecords')\n",
    "            writer_validation.write(example.SerializeToString())\n",
    "        elif num % 10 == 0:\n",
    "            test_size += 1\n",
    "            if test_size % 4000 == 1:\n",
    "                test_few = test_size // 4000\n",
    "                writer_test = tf.python_io.TFRecordWriter('test_'+str(test_few)+'.tfrecords')\n",
    "            writer_test.write(example.SerializeToString())\n",
    "        \n",
    "    print(\"num = %d\" % num)\n",
    "    print(sizes)\n",
    "    writer_train.close()\n",
    "    writer_validation.close()\n",
    "    writer_test.close()\n",
    "\n",
    "\n",
    "if __name__ == \"__main__\":\n",
    "    convert_to()"
   ]
  },
  {
   "cell_type": "code",
   "execution_count": null,
   "metadata": {},
   "outputs": [],
   "source": []
  },
  {
   "cell_type": "code",
   "execution_count": null,
   "metadata": {},
   "outputs": [],
   "source": []
  }
 ],
 "metadata": {
  "kernelspec": {
   "display_name": "Python 3",
   "language": "python",
   "name": "python3"
  },
  "language_info": {
   "codemirror_mode": {
    "name": "ipython",
    "version": 3
   },
   "file_extension": ".py",
   "mimetype": "text/x-python",
   "name": "python",
   "nbconvert_exporter": "python",
   "pygments_lexer": "ipython3",
   "version": "3.5.2"
  }
 },
 "nbformat": 4,
 "nbformat_minor": 2
}

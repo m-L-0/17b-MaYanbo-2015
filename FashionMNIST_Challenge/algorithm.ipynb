{
 "cells": [
  {
   "cell_type": "markdown",
   "metadata": {},
   "source": [
    "## 设计并训练KNN算法对图片进行分类"
   ]
  },
  {
   "cell_type": "code",
   "execution_count": 1,
   "metadata": {},
   "outputs": [],
   "source": [
    "import tensorflow as tf  \n",
    "import numpy as np  "
   ]
  },
  {
   "cell_type": "code",
   "execution_count": 2,
   "metadata": {},
   "outputs": [
    {
     "data": {
      "text/plain": [
       "\"\\ndef loadMNIST():  \\n    from tensorflow.examples.tutorials.mnist import input_data  \\n    mnist = input_data.read_data_sets('data/fashion',dtype='uint8')  \\n    return mnist\\n\""
      ]
     },
     "execution_count": 2,
     "metadata": {},
     "output_type": "execute_result"
    }
   ],
   "source": [
    "'''\n",
    "def loadMNIST():  \n",
    "    from tensorflow.examples.tutorials.mnist import input_data  \n",
    "    mnist = input_data.read_data_sets('data/fashion',dtype='uint8')  \n",
    "    return mnist\n",
    "'''"
   ]
  },
  {
   "cell_type": "code",
   "execution_count": 3,
   "metadata": {},
   "outputs": [],
   "source": [
    "'''\n",
    "def nomalizing(array):\n",
    "    m,n = np.shape(array)#shape函数为得到数组的各个维度\n",
    "    for i in xrange(m):\n",
    "        for j in xrange(n):\n",
    "            if array[i,j] != 0:\n",
    "                array[i,j] = 1\n",
    "    return array\n",
    "'''\n"
   ]
  },
  {
   "cell_type": "markdown",
   "metadata": {},
   "source": [
    "#### 定义读取TFRecord格式数据的函数"
   ]
  },
  {
   "cell_type": "code",
   "execution_count": 15,
   "metadata": {},
   "outputs": [],
   "source": [
    "def loadtraindata(trainfile, tensor, num):\n",
    "    filename_queue = tf.train.string_input_producer([trainfile])  #引入tfrecord文件\n",
    "    #读取\n",
    "    reader = tf.TFRecordReader()  \n",
    "    _, example = reader.read(filename_queue)  \n",
    "    features = tf.parse_single_example(example,  \n",
    "                                       features={'lab': tf.FixedLenFeature([], tf.int64),  \n",
    "                                                 'img': tf.FixedLenFeature(tensor, tf.float32)})  \n",
    "    image = tf.cast(features['img'], tf.float64)  \n",
    "   # image = tf.reshape(image, [28, 28]) \n",
    "    label = tf.cast(features['lab'], tf.int32) \n",
    "\n",
    "    #创建序列，要保存文件内容\n",
    "    images = list()\n",
    "    labels = list()\n",
    "    \n",
    "    #转换文件格式\n",
    "    with tf.Session() as sess:  \n",
    "        init = tf.global_variables_initializer()  \n",
    "        sess.run(init)  \n",
    "        coord = tf.train.Coordinator()  \n",
    "        threads = tf.train.start_queue_runners(sess=sess, coord=coord)  \n",
    "        for i in range(num):  \n",
    "            img, lab = sess.run([image, label])  \n",
    "            images.append(np.array(img[0]))\n",
    "            tem=np.zeros((1,10))\n",
    "            tem[0][lab]=1.0\n",
    "            labels.append(tem[0])\n",
    "            del tem\n",
    "            \n",
    "        coord.request_stop()  \n",
    "        coord.join(threads)     \n",
    "   \n",
    "    #保存为数组格式\n",
    "    images=np.array(images)\n",
    "    labels=np.array(labels)\n",
    "    \n",
    "    return images,labels\n"
   ]
  },
  {
   "cell_type": "markdown",
   "metadata": {},
   "source": [
    "#### 定义KNN算法分类数据"
   ]
  },
  {
   "cell_type": "code",
   "execution_count": 18,
   "metadata": {},
   "outputs": [],
   "source": [
    "def KNN():  \n",
    "    #读取训练集和测试集数据\n",
    "    train_x,train_y=loadtraindata(trainfile='train.tfrecords',tensor=[1,784],num=60000)\n",
    "    test_x, test_y =loadtraindata(trainfile='test.tfrecords',tensor=[1,784],num=5000) \n",
    "    #定义参数  \n",
    "    xtr = tf.placeholder(tf.float32,[None,784])  \n",
    "    xte = tf.placeholder(tf.float32,[784])  \n",
    "    \n",
    "    #计算距离 \n",
    "    #运用欧式距离公式：d=sqrt( ∑(xi1-xi2)^ ) i=1,2..n \n",
    "    distance = tf.sqrt(tf.reduce_sum(tf.pow(tf.add(xtr, tf.negative(xte)),2),reduction_indices=1))  \n",
    "      \n",
    "    pred = tf.argmin(distance,0)  \n",
    "      \n",
    "    init = tf.initialize_all_variables()  \n",
    "      \n",
    "    sess = tf.Session()  \n",
    "    sess.run(init)  \n",
    "      \n",
    "    right = 0  \n",
    "    #测试准确度\n",
    "    for i in range(200):  \n",
    "        ansIndex = sess.run(pred,{xtr:train_x,xte:test_x[i,:]})  \n",
    "        #print ('prediction is ',np.argmax(train_y[ansIndex])  )\n",
    "        #print ('true value is ',np.argmax(test_y[i])  )\n",
    "        if np.argmax(test_y[i]) == np.argmax(train_y[ansIndex]):  \n",
    "            right += 1.0  \n",
    "    accracy = right/200.0  \n",
    "    print ('精确度:' , accracy)"
   ]
  },
  {
   "cell_type": "code",
   "execution_count": 19,
   "metadata": {},
   "outputs": [
    {
     "name": "stdout",
     "output_type": "stream",
     "text": [
      "WARNING:tensorflow:From /home/mmm/tensorflow/lib/python3.5/site-packages/tensorflow/python/util/tf_should_use.py:175: initialize_all_variables (from tensorflow.python.ops.variables) is deprecated and will be removed after 2017-03-02.\n",
      "Instructions for updating:\n",
      "Use `tf.global_variables_initializer` instead.\n",
      "精确度: 1.0\n"
     ]
    }
   ],
   "source": [
    "if __name__ == \"__main__\":  \n",
    "     \n",
    "    KNN()  "
   ]
  },
  {
   "cell_type": "code",
   "execution_count": null,
   "metadata": {},
   "outputs": [],
   "source": []
  }
 ],
 "metadata": {
  "kernelspec": {
   "display_name": "Python 3",
   "language": "python",
   "name": "python3"
  },
  "language_info": {
   "codemirror_mode": {
    "name": "ipython",
    "version": 3
   },
   "file_extension": ".py",
   "mimetype": "text/x-python",
   "name": "python",
   "nbconvert_exporter": "python",
   "pygments_lexer": "ipython3",
   "version": "3.5.2"
  }
 },
 "nbformat": 4,
 "nbformat_minor": 2
}

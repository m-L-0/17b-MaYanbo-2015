{
 "cells": [
  {
   "cell_type": "markdown",
   "metadata": {},
   "source": [
    "## 设计K-Means算法进行聚类"
   ]
  },
  {
   "cell_type": "markdown",
   "metadata": {},
   "source": [
    "#### 读取训练数据"
   ]
  },
  {
   "cell_type": "code",
   "execution_count": 7,
   "metadata": {},
   "outputs": [
    {
     "name": "stdout",
     "output_type": "stream",
     "text": [
      "Extracting data/fashion/train-images-idx3-ubyte.gz\n",
      "Extracting data/fashion/train-labels-idx1-ubyte.gz\n",
      "Extracting data/fashion/t10k-images-idx3-ubyte.gz\n",
      "Extracting data/fashion/t10k-labels-idx1-ubyte.gz\n"
     ]
    }
   ],
   "source": [
    "from tensorflow.examples.tutorials.mnist import input_data      \n",
    "\n",
    "data = input_data.read_data_sets('data/fashion')\n",
    "X_train=data.train.images\n",
    "y_train=data.train.labels"
   ]
  },
  {
   "cell_type": "markdown",
   "metadata": {},
   "source": [
    "#### 设计K-Means算法"
   ]
  },
  {
   "cell_type": "code",
   "execution_count": 9,
   "metadata": {},
   "outputs": [
    {
     "name": "stdout",
     "output_type": "stream",
     "text": [
      "[(1, 4914), (3, 2923), (0, 180)]\n",
      "[(0, 3178), (3, 1539), (6, 964)]\n",
      "[(5, 3231), (6, 797), (0, 652)]\n",
      "[(9, 2615), (5, 256), (7, 184)]\n",
      "[(9, 1872), (5, 211), (7, 11)]\n",
      "[(6, 1841), (2, 1594), (0, 1339)]\n",
      "[(7, 1367), (9, 798), (5, 691)]\n",
      "[(8, 2998), (6, 104), (2, 62)]\n",
      "[(4, 3284), (2, 3203), (6, 1743)]\n",
      "[(7, 3544), (5, 1079), (8, 65)]\n"
     ]
    }
   ],
   "source": [
    "import numpy as np\n",
    "import tensorflow as tf\n",
    "from collections import Counter\n",
    "\n",
    "k=10 # 自己设定k值\n",
    "\n",
    "# 选择随机点作为起始位置\n",
    "start_pos = tf.Variable(X_train[np.random.randint(X_train.shape[0], size=k), :], dtype=tf.float32)\n",
    "centroids = tf.Variable(start_pos.initialized_value(), 'S', dtype=tf.float32)\n",
    "\n",
    "# 填充点\n",
    "points = tf.Variable(X_train, 'X_train', dtype=tf.float32)\n",
    "ones_like = tf.ones((points.get_shape()[0], 1))\n",
    "prev_assignments = tf.Variable(tf.zeros((points.get_shape()[0], ), dtype=tf.int64))\n",
    "\n",
    "# 找到所有点之间的距离\n",
    "p1 = tf.matmul(\n",
    "    tf.expand_dims(tf.reduce_sum(tf.square(points), 1), 1),\n",
    "    tf.ones(shape=(1, k))\n",
    ")\n",
    "p2 = tf.transpose(tf.matmul(\n",
    "    tf.reshape(tf.reduce_sum(tf.square(centroids), 1), shape=[-1, 1]),\n",
    "    ones_like,\n",
    "    transpose_b=True\n",
    "))\n",
    "\n",
    "# 在Kmeans算法中，一般采用欧氏距离计算两个点的距离，欧氏距离如下：d=sqrt( ∑(xi1-xi2)^ ) i=1,2..n \n",
    "distance = tf.sqrt(tf.add(p1, p2) - 2 * tf.matmul(points, centroids, transpose_b=True))\n",
    "\n",
    "# 将每个点分配到最近的质心\n",
    "point_to_centroid_assignment = tf.argmin(distance, axis=1)\n",
    "\n",
    "# 重新计算中心\n",
    "total = tf.unsorted_segment_sum(points, point_to_centroid_assignment, k)\n",
    "count = tf.unsorted_segment_sum(ones_like, point_to_centroid_assignment, k)\n",
    "means = total / count\n",
    "\n",
    "# 如果当前和以前的作业有任何差异，请继续\n",
    "is_continue = tf.reduce_any(tf.not_equal(point_to_centroid_assignment, prev_assignments))\n",
    "\n",
    "with tf.control_dependencies([is_continue]):\n",
    "    loop = tf.group(centroids.assign(means), prev_assignments.assign(point_to_centroid_assignment))\n",
    "\n",
    "sess = tf.Session()\n",
    "sess.run(tf.global_variables_initializer())\n",
    "\n",
    "# 进行多次迭代\n",
    "has_changed, cnt = True, 0\n",
    "while has_changed and cnt < 300:\n",
    "    cnt += 1\n",
    "    has_changed, _ = sess.run([is_continue, loop])\n",
    "\n",
    "# 展示结果\n",
    "res = sess.run(point_to_centroid_assignment)\n",
    "nums_in_clusters = [[] for i in range(10)]\n",
    "for cluster, real_num in zip(list(res), list(y_train)):\n",
    "    nums_in_clusters[cluster].append(real_num)\n",
    "\n",
    "for i in range(10):\n",
    "    print(Counter(nums_in_clusters[i]).most_common(3))"
   ]
  }
 ],
 "metadata": {
  "kernelspec": {
   "display_name": "Python 3",
   "language": "python",
   "name": "python3"
  }
 },
 "nbformat": 4,
 "nbformat_minor": 2
}

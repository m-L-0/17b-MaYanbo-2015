{
 "cells": [
  {
   "cell_type": "markdown",
   "metadata": {},
   "source": [
    "# 一 从tfrecord文件读取数据"
   ]
  },
  {
   "cell_type": "code",
   "execution_count": 1,
   "metadata": {},
   "outputs": [],
   "source": [
    "import numpy as np\n",
    "import tensorflow as tf\n",
    "import os\n",
    "from PIL import Image \n",
    "import matplotlib.pyplot as plt "
   ]
  },
  {
   "cell_type": "markdown",
   "metadata": {},
   "source": [
    "#### 定义读取函数"
   ]
  },
  {
   "cell_type": "code",
   "execution_count": 2,
   "metadata": {},
   "outputs": [],
   "source": [
    "def read_and_decode(filename,num): # 读入train.tfrecords\n",
    "    filename_queue = tf.train.string_input_producer([filename])#生成一个queue队列\n",
    "\n",
    "    reader = tf.TFRecordReader()\n",
    "    _, serialized_example = reader.read(filename_queue)#返回文件名和文件\n",
    "    features = tf.parse_single_example(serialized_example,\n",
    "                                       features={\n",
    "                                           'label': tf.FixedLenFeature([], tf.int64),\n",
    "                                           'img_raw' : tf.FixedLenFeature([], tf.string),\n",
    "                                       })#将image数据和label取出来\n",
    "\n",
    "    image = tf.decode_raw(features['img_raw'], tf.uint8)\n",
    "    image = tf.cast(image, tf.float32)    # 解码之后转数据类型 \n",
    "    image = tf.reshape(image, [48, 24])\n",
    "    #image = tf.reshape(image, [128, 128, 3])  #reshape为128*128的3通道图片\n",
    "    #img = tf.cast(img, tf.float32) * (1. / 255) - 0.5 #在流中抛出img张量\n",
    "    label = tf.cast(features['label'], tf.int32) #在流中抛出label张量\n",
    "    image_batch, label_batch = tf.train.shuffle_batch([image,label], batch_size=1, capacity=200,\n",
    "                                                 min_after_dequeue=100, num_threads=2)\n",
    "\n",
    "    with tf.Session() as sess: #开始一个会话\n",
    "        new_img = np.zeros((num, 1152))\n",
    "        new_lab = np.zeros((num, 1))\n",
    "\n",
    "        init = tf.group(tf.global_variables_initializer(), tf.local_variables_initializer())\n",
    "        sess.run(init)\n",
    "        \n",
    "        coord = tf.train.Coordinator()\n",
    "        threads = tf.train.start_queue_runners(sess=sess, coord=coord)\n",
    "        for count in range(num):\n",
    "\n",
    "            image, label = sess.run([image_batch, label_batch])  # 在会话中取出image和label\n",
    "            img = image.reshape([48, 24]) \n",
    "            img = img.astype(np.uint8)  # PIL保存时，必须是整数\n",
    "            if num == 1:\n",
    "                coord.request_stop()\n",
    "                coord.join(threads)\n",
    "                return img, label\n",
    "            else:\n",
    "                image = image.reshape(1152)\n",
    "                image = image / 255\n",
    "                new_img[count, :] = image\n",
    "                new_lab[count, :] = label\n",
    "               # if count % 1000 == 0:\n",
    "                   # print(count)\n",
    "        coord.request_stop()  \n",
    "        coord.join(threads)\n",
    "    return new_img, new_lab\n",
    "    "
   ]
  },
  {
   "cell_type": "markdown",
   "metadata": {},
   "source": [
    "# 二.设计卷积神经网络结构并利用卷积神经网络对汉字和字母数字分别进行训练"
   ]
  },
  {
   "cell_type": "markdown",
   "metadata": {},
   "source": [
    "#### 读取训练集和测试集数据"
   ]
  },
  {
   "cell_type": "code",
   "execution_count": 3,
   "metadata": {},
   "outputs": [],
   "source": [
    "[X_train, y_train] = read_and_decode('train.tfrecords', 10856)\n",
    "[X_val, y_val] = read_and_decode('validation.tfrecords', 3619)"
   ]
  },
  {
   "cell_type": "markdown",
   "metadata": {},
   "source": [
    "#### 转换标签数据为one-hot类型"
   ]
  },
  {
   "cell_type": "code",
   "execution_count": 4,
   "metadata": {},
   "outputs": [],
   "source": [
    "def dense_to_one_hot(labels_dense, num_classes=100):\n",
    "    labels_dense = labels_dense.astype(np.uint8)   # 更换数据类型\n",
    "    num_labels = labels_dense.shape[0]\n",
    "    index_offset = np.arange(num_labels) * num_classes\n",
    "    labels_one_hot = np.zeros((num_labels, num_classes))\n",
    "    labels_one_hot.flat[index_offset + labels_dense.ravel()] = 1\n",
    "    return labels_one_hot\n",
    "#\n",
    "y_train = dense_to_one_hot(y_train, 100)\n",
    "y_val = dense_to_one_hot(y_val, 100)"
   ]
  },
  {
   "cell_type": "code",
   "execution_count": 5,
   "metadata": {},
   "outputs": [],
   "source": [
    "import numpy as np\n",
    "import tensorflow as tf\n",
    "import random"
   ]
  },
  {
   "cell_type": "code",
   "execution_count": 6,
   "metadata": {},
   "outputs": [],
   "source": [
    "FLAGS = tf.app.flags.FLAGS\n",
    "# Basic model parameters.\n",
    "tf.app.flags.DEFINE_string('my_list', './cnn',\"\"\"存放模型的目录\"\"\")\n",
    "tf.app.flags.DEFINE_string('my_parameters', 'mnist',\"\"\"模型的名称\"\"\")"
   ]
  },
  {
   "cell_type": "code",
   "execution_count": 7,
   "metadata": {},
   "outputs": [],
   "source": [
    "config = tf.ConfigProto()\n",
    "config.gpu_options.allow_growth = True\n",
    "sess = tf.InteractiveSession(config=config)   # 启动计算图"
   ]
  },
  {
   "cell_type": "code",
   "execution_count": 8,
   "metadata": {},
   "outputs": [
    {
     "name": "stdout",
     "output_type": "stream",
     "text": [
      "(10856, 1152)\n",
      "(10856, 100)\n",
      "(3619, 100)\n"
     ]
    }
   ],
   "source": [
    "print(X_train.shape)\n",
    "print(y_train.shape)\n",
    "print(y_val.shape)"
   ]
  },
  {
   "cell_type": "markdown",
   "metadata": {},
   "source": [
    "#### 构建卷积神经网络"
   ]
  },
  {
   "cell_type": "code",
   "execution_count": 9,
   "metadata": {},
   "outputs": [],
   "source": [
    "#定义一个函数，用于初始化所有的权值 W\n",
    "def weight_variable(shape):\n",
    "  initial = tf.truncated_normal(shape, stddev=0.1)\n",
    "  return tf.Variable(initial)\n",
    "\n",
    "#定义一个函数，用于初始化所有的偏置项 b\n",
    "def bias_variable(shape):\n",
    "  initial = tf.constant(0.1, shape=shape)\n",
    "  return tf.Variable(initial)\n",
    "  \n",
    "#定义一个函数，用于构建卷积层\n",
    "def conv2d(x, W):\n",
    "  return tf.nn.conv2d(x, W, strides=[1, 1, 1, 1], padding='SAME')\n",
    "\n",
    "#定义一个函数，用于构建池化层\n",
    "def max_pool(x):\n",
    "  return tf.nn.max_pool(x, ksize=[1, 2, 2, 1],strides=[1, 2, 2, 1], padding='SAME')"
   ]
  },
  {
   "cell_type": "code",
   "execution_count": 10,
   "metadata": {},
   "outputs": [],
   "source": [
    "def chooseone(image, label, batchsize):\n",
    "    im = np.empty((batchsize, 1152))\n",
    "    la = np.empty((batchsize, 36))\n",
    "    for i in range(batchsize):\n",
    "        a = random.randint(0, 3474)\n",
    "        im[i] = image[a]\n",
    "        la[i] = label[a]\n",
    "    return im, la"
   ]
  },
  {
   "cell_type": "code",
   "execution_count": 11,
   "metadata": {},
   "outputs": [
    {
     "name": "stdout",
     "output_type": "stream",
     "text": [
      "INFO:tensorflow:Restoring parameters from ./cnn/mnist-900\n"
     ]
    }
   ],
   "source": [
    "X_ = tf.placeholder(tf.float32, [None, 1152])\n",
    "y_ = tf.placeholder(tf.float32, [None, 100])\n",
    "\n",
    "# 把X转为卷积所需要的形式\n",
    "X = tf.reshape(X_, [-1, 48, 24, 1])\n",
    "# 第一层卷积：3×3×1卷积核32个 [3，3，1，32],h_conv1.shape=[-1, 48, 24, 32],学习32种特征\n",
    "W_conv1 = weight_variable([3,3,1,32])\n",
    "b_conv1 = bias_variable([32])\n",
    "h_conv1 = tf.nn.relu(conv2d(X, W_conv1) + b_conv1)\n",
    "\n",
    "# 第一个pooling 层[-1, 48, 24, 32]->[-1, 24, 12, 32]\n",
    "h_pool1 = max_pool(h_conv1)\n",
    "\n",
    "# 第二层卷积：5×5×32卷积核64个 [3，3，32，64],h_conv2.shape=[-1, 24, 12, 64]\n",
    "W_conv2 = weight_variable([3,3,32,64])\n",
    "b_conv2 = bias_variable([64])\n",
    "h_conv2 = tf.nn.relu(conv2d(h_pool1, W_conv2) + b_conv2)\n",
    "\n",
    "# 第二个pooling 层,[-1, 24, 12, 64]->[-1, 14, 6, 64] \n",
    "h_pool2 = max_pool(h_conv2)\n",
    "\n",
    "# 第三层卷积\n",
    "W_conv3 = weight_variable([3, 3, 64, 96])\n",
    "b_conv3 = bias_variable([96])\n",
    "h_conv3 = tf.nn.relu(conv2d(h_pool2, W_conv3) + b_conv3)\n",
    "h_pool3 = max_pool(h_conv3)\n",
    "\n",
    "# flatten层，[-1, 6, 3, 96]->[-1, 6*3*96],即每个样本得到一个6*3*96维的样本\n",
    "h_pool2_flat = tf.reshape(h_pool3, [-1, 6*3*96])\n",
    "\n",
    "# fc1\n",
    "W_fc1 = weight_variable([6*3*96, 512])\n",
    "b_fc1 = bias_variable([512])\n",
    "h_fc1 = tf.nn.relu(tf.matmul(h_pool2_flat, W_fc1) + b_fc1)\n",
    "\n",
    "# dropout: 输出的维度和h_fc1一样，只是随机部分值被值为零\n",
    "keep_prob = tf.placeholder(tf.float32)\n",
    "h_fc1_drop = tf.nn.dropout(h_fc1, keep_prob)\n",
    "\n",
    "# 输出层\n",
    "W_fc2 = weight_variable([512, 100])\n",
    "b_fc2 = bias_variable([100])\n",
    "y_conv = tf.nn.softmax(tf.matmul(h_fc1_drop, W_fc2) + b_fc2)\n",
    "\n",
    "\n",
    "# 1.损失函数：cross_entropy\n",
    "cross_entropy = -tf.reduce_sum(y_ * tf.log(y_conv))\n",
    "# 2.优化函数：AdamOptimizer\n",
    "train_step = tf.train.AdamOptimizer(1e-4).minimize(cross_entropy)\n",
    "\n",
    "# 3.预测准确结果统计\n",
    "#　预测值中最大值（１）即分类结果，是否等于原始标签中的（１）的位置。argmax()取最大值所在的下标\n",
    "z = tf.argmax(y_conv, 1)\n",
    "q = tf.argmax(y_, 1)\n",
    "correct_prediction = tf.equal(z, q)  \n",
    "accuracy = tf.reduce_mean(tf.cast(correct_prediction, tf.float32))\n",
    "\n",
    "# 保存\n",
    "saver = tf.train.Saver(max_to_keep=2)\n",
    "\n",
    "sess.run(tf.global_variables_initializer())\n",
    "writer = tf.summary.FileWriter(FLAGS.my_list, sess.graph)\n",
    "\n",
    "ckpt = tf.train.latest_checkpoint(FLAGS.my_list)\n",
    "step = 0\n",
    "if ckpt:\n",
    "    saver.restore(sess=sess, save_path=ckpt)\n",
    "    step = int(ckpt[len(os.path.join(FLAGS.my_list, FLAGS.my_parameters)) + 1:])\n"
   ]
  },
  {
   "cell_type": "markdown",
   "metadata": {},
   "source": [
    "#### 随机批次载入数据"
   ]
  },
  {
   "cell_type": "code",
   "execution_count": 12,
   "metadata": {},
   "outputs": [],
   "source": [
    "def min_next_batch_tfr(image, label, num=50): \n",
    "    images = np.zeros((num, 1152))\n",
    "    labels = np.zeros((num, 100))\n",
    "    for i in range(num):\n",
    "        temp = random.randint(0, 10855)\n",
    "        images[i, :] = image[temp]\n",
    "        labels[i, :] = label[temp]\n",
    "\n",
    "    return images, labels"
   ]
  },
  {
   "cell_type": "code",
   "execution_count": 13,
   "metadata": {
    "scrolled": true
   },
   "outputs": [
    {
     "name": "stdout",
     "output_type": "stream",
     "text": [
      "test accuracy 0.937552\n",
      "0的召回率为0.918519\n",
      "1的召回率为0.964029\n",
      "2的召回率为0.935780\n",
      "3的召回率为0.955357\n",
      "4的召回率为0.934783\n",
      "5的召回率为0.764706\n",
      "6的召回率为0.882979\n",
      "7的召回率为0.728155\n",
      "8的召回率为0.822034\n",
      "9的召回率为0.788991\n",
      "A的召回率为0.995575\n",
      "B的召回率为0.933333\n",
      "C的召回率为1.000000\n",
      "D的召回率为0.555556\n",
      "E的召回率为0.983936\n",
      "F的召回率为0.969231\n",
      "G的召回率为0.967213\n",
      "H的召回率为0.983333\n",
      "J的召回率为1.000000\n",
      "K的召回率为0.963636\n",
      "L的召回率为1.000000\n",
      "M的召回率为0.985294\n",
      "N的召回率为0.966667\n",
      "P的召回率为0.921569\n",
      "Q的召回率为0.811321\n",
      "R的召回率为1.000000\n",
      "S的召回率为0.964706\n",
      "T的召回率为0.864865\n",
      "U的召回率为0.941176\n",
      "V的召回率为1.000000\n",
      "W的召回率为1.000000\n",
      "X的召回率为0.995951\n",
      "Y的召回率为0.993827\n",
      "z的召回率为0.967213\n"
     ]
    }
   ],
   "source": [
    "import tensorflow as tf\n",
    "\n",
    "# 开启线程\n",
    "coord = tf.train.Coordinator()\n",
    "threads = tf.train.start_queue_runners(sess=sess, coord=coord)\n",
    "\n",
    "'''\n",
    "# 训练\n",
    "for i in range(1000):   ## 20000\n",
    "    batch = min_next_batch_tfr(X_train, y_train, 50)\n",
    "    if i % 100 == 0:   ## 1000\n",
    "        train_accuracy, loss = sess.run([accuracy, cross_entropy], feed_dict={\n",
    "            X_: batch[0], y_: batch[1], keep_prob: 1})\n",
    "        print(\"step %d, validating accuracy %g, loss is %g\" % (i, train_accuracy, loss))\n",
    "        ckptname=os.path.join(FLAGS.my_list, FLAGS.my_parameters)\n",
    "        saver.save(sess,ckptname,global_step=i)\n",
    "    train_step.run(feed_dict={X_: batch[0], y_: batch[1], keep_prob: 0.5})\n",
    "'''\n",
    "\n",
    "    \n",
    "# 利用测试集对卷积神经网络进行检测，并得到识别正确率\n",
    "     \n",
    "print(\"test accuracy %g\" % accuracy.eval(feed_dict={ X_: X_val , y_: y_val, keep_prob: 1.0}))\n",
    "\n",
    "# prediction\n",
    "y_conv = np.argmax(y_conv.eval(feed_dict={X_: X_val, y_: y_val, keep_prob: 1.0}), 1)\n",
    "y_conv = y_conv.reshape(-1, 1)\n",
    "coord.request_stop() \n",
    "coord.join(threads)\n",
    "\n",
    "# validation\n",
    "y_val = np.argmax(y_val, 1)\n",
    "y_val = y_val.reshape(-1)\n",
    "\n",
    "# 拼接  validation + prediction\n",
    "test = np.column_stack((y_val, y_conv))\n",
    "test = test[np.lexsort(test[:, ::-1].T)] \n",
    "    \n",
    "# 计算召回率\n",
    "for count in range(34):\n",
    "    for i in range(test.shape[0]):\n",
    "        j = test[i][0]  # 找出validation 的 label\n",
    "        if i != 0:\n",
    "            j1 = test[i-1][0]\n",
    "            if j1 != j:\n",
    "                test_temp = test[:i]\n",
    "                correct_prediction = np.equal(test_temp[:, 0], test_temp[:, 1])\n",
    "                accuracy = np.mean(correct_prediction)\n",
    "                accuracy = accuracy.astype('float32')\n",
    "                if j1 > 10:\n",
    "                    j1 = chr(j1)\n",
    "                    print('%s的召回率为%f'%(j1, accuracy))\n",
    "                else:\n",
    "                    print('%d的召回率为%f'%(j1, accuracy))\n",
    "\n",
    "                test = test[i:]\n",
    "                break\n",
    "\n",
    "# z的召回率\n",
    "test_temp = test\n",
    "correct_prediction = np.equal(test_temp[:, 0], test_temp[:, 1])\n",
    "accuracy = np.mean(correct_prediction)\n",
    "accuracy = accuracy.astype('float32')\n",
    "print('z的召回率为%f'% accuracy)"
   ]
  },
  {
   "cell_type": "code",
   "execution_count": null,
   "metadata": {},
   "outputs": [],
   "source": []
  }
 ],
 "metadata": {
  "kernelspec": {
   "display_name": "Python 3",
   "language": "python",
   "name": "python3"
  },
  "language_info": {
   "codemirror_mode": {
    "name": "ipython",
    "version": 3
   },
   "file_extension": ".py",
   "mimetype": "text/x-python",
   "name": "python",
   "nbconvert_exporter": "python",
   "pygments_lexer": "ipython3",
   "version": "3.5.2"
  }
 },
 "nbformat": 4,
 "nbformat_minor": 2
}

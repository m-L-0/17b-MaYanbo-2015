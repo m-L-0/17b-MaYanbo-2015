{
 "cells": [
  {
   "cell_type": "markdown",
   "metadata": {},
   "source": [
    "# 图片集读入并保存到tfrecord文件中"
   ]
  },
  {
   "cell_type": "code",
   "execution_count": 1,
   "metadata": {},
   "outputs": [],
   "source": [
    "import matplotlib.pyplot as plt\n",
    "from PIL import Image\n",
    "import numpy as np\n",
    "import glob\n",
    "import random"
   ]
  },
  {
   "cell_type": "markdown",
   "metadata": {},
   "source": [
    "#### 定义转换函数"
   ]
  },
  {
   "cell_type": "code",
   "execution_count": 5,
   "metadata": {},
   "outputs": [],
   "source": [
    "def images_convert():\n",
    "    rst = []\n",
    "    # 数字\n",
    "    cwd = 'data/'\n",
    "    for i in range(10):\n",
    "        num = str(i)\n",
    "        path = cwd + num + '/*.*'\n",
    "        for jpgfile in glob.glob(path):\n",
    "            img = Image.open(jpgfile) #每一个图片的地址\n",
    "            img = img.resize((24, 48), Image.BILINEAR) #裁剪图片大小\n",
    "            new_img = img.convert('L') #转为灰度图像\n",
    "            new_img = np.array(new_img, dtype='uint8')\n",
    "            new_img = new_img.reshape(48, 24)\n",
    "            # plt.imshow(new_img, cmap='gray')    \n",
    "            # plt.show()\n",
    "            new_img = new_img.reshape(1152,)\n",
    "            new_img = new_img.tolist()  \n",
    "            new_img.insert(0, i)\n",
    "            # 保存\n",
    "            rst.append(new_img)\n",
    "    \n",
    "    # 字母\n",
    "    for i in range(26):\n",
    "        letter = chr(65+i)\n",
    "        path = cwd + letter + '/*.*'\n",
    "        for jpgfile in glob.glob(path):\n",
    "            img = Image.open(jpgfile)\n",
    "            img = img.resize((24, 48), Image.BILINEAR)\n",
    "            new_img = img.convert('L')\n",
    "            new_img = np.array(new_img, dtype='uint8')\n",
    "            new_img = new_img.reshape(48, 24)\n",
    "            # plt.imshow(new_img, cmap='gray')    \n",
    "            # plt.show()\n",
    "            new_img = new_img.reshape(1152,)\n",
    "            new_img = new_img.tolist()  \n",
    "            new_img.insert(0, 65+i)\n",
    "            rst.append(new_img)\n",
    "\n",
    "    random.shuffle(rst)\n",
    "    rst = np.array(rst)\n",
    "    np.reshape(rst, (-1, 1153))\n",
    "    rst = rst.astype('uint8')\n",
    "\n",
    "    return rst[:10856], rst[10856:]\n"
   ]
  },
  {
   "cell_type": "markdown",
   "metadata": {},
   "source": [
    "#### 将转换的图片数组转为tfrecord文件"
   ]
  },
  {
   "cell_type": "code",
   "execution_count": 7,
   "metadata": {},
   "outputs": [],
   "source": [
    "import tensorflow as tf\n",
    "\n",
    "\n",
    "# 读取数据\n",
    "data = images_convert()\n",
    "\n",
    "# 转为tfrecord文件\n",
    "config = ['train', 'validation']\n",
    "for each in range(len(config)):\n",
    "    mnist_type = config[each]\n",
    "    # tfrecord格式文件名\n",
    "    with tf.python_io.TFRecordWriter( mnist_type + '.tfrecords') as writer:\n",
    "        image_path = data[each]\n",
    "        for num_image in range(image_path.shape[0]):\n",
    "            image = Image.fromarray(data[each][num_image][1:].reshape(48, 24))\n",
    "            # plt.show()\n",
    "            image = image.tobytes()\n",
    "            label = data[each][num_image][0]\n",
    "            example = tf.train.Example(features=tf.train.Features(feature={  \n",
    "                    \"label\": tf.train.Feature(int64_list=tf.train.Int64List(value=[int(label)])),  \n",
    "                    'img_raw': tf.train.Feature(bytes_list=tf.train.BytesList(value=[image]))  \n",
    "                }))\n",
    "            writer.write(example.SerializeToString())"
   ]
  },
  {
   "cell_type": "code",
   "execution_count": null,
   "metadata": {},
   "outputs": [],
   "source": []
  }
 ],
 "metadata": {
  "kernelspec": {
   "display_name": "Python 3",
   "language": "python",
   "name": "python3"
  },
  "language_info": {
   "codemirror_mode": {
    "name": "ipython",
    "version": 3
   },
   "file_extension": ".py",
   "mimetype": "text/x-python",
   "name": "python",
   "nbconvert_exporter": "python",
   "pygments_lexer": "ipython3",
   "version": "3.5.2"
  }
 },
 "nbformat": 4,
 "nbformat_minor": 2
}
